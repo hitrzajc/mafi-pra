{
 "cells": [
  {
   "cell_type": "code",
   "execution_count": 36,
   "metadata": {},
   "outputs": [],
   "source": [
    "import numpy as np\n",
    "import matplotlib.pyplot as plt\n",
    "import scipy.special as sc\n",
    "from tqdm import tqdm\n",
    "from matplotlib.colors import LogNorm\n",
    "from matplotlib import cm\n",
    "\n",
    "PATH = \"../latex/pdf/\"\n",
    "# print(plt.rcParams.keys())\n",
    "plt.rcParams['savefig.bbox'] = 'tight'\n",
    "plt.rcParams['savefig.dpi'] = 200\n",
    "plt.rcParams['savefig.pad_inches'] = 0\n",
    "\n"
   ]
  },
  {
   "cell_type": "code",
   "execution_count": 96,
   "metadata": {},
   "outputs": [],
   "source": [
    "def ψ_mn(m, n1, n2): #skalarni produkt\n",
    "    return np.pi/2 *sc.beta(4+4*m,1+n1+n2)\n",
    "\n",
    "def ψ(m: int,n: int,ξ,φ):\n",
    "    # if ξ == 0 or ξ == 1 or φ == 0 or φ == np.pi:\n",
    "    #     return 0\n",
    "    return np.power(ξ,2*m+1)*np.power(1-ξ,n)*np.sin((2*m+1)*φ)\n",
    "\n",
    "def A_mn(m, n1, n2):\n",
    "    return -np.pi/2 * (n1*n2)*(3+4*m)/(2+4*m+n1+n2) * sc.beta(n1+n2-1,3+4*m)\n",
    "\n",
    "def b_mn(m, n):\n",
    "    return -2/(2*m+1)*sc.beta(2*m+3,n+1)\n",
    "        "
   ]
  },
  {
   "cell_type": "code",
   "execution_count": 144,
   "metadata": {},
   "outputs": [
    {
     "name": "stderr",
     "output_type": "stream",
     "text": [
      "100%|██████████| 20/20 [03:30<00:00, 10.52s/it]\n"
     ]
    }
   ],
   "source": [
    "M = 20\n",
    "N = 20\n",
    "siz = 300\n",
    "grid = np.zeros((siz,siz)) #[ξ,φ]\n",
    "for m in tqdm(range(M)):\n",
    "    tmpA = np.zeros((N,N))\n",
    "    tmpb = np.zeros(N)\n",
    "    for n1 in range(N):\n",
    "        for n2 in range(N):\n",
    "            tmpA[n1,n2] = A_mn(m,n1+1,n2+1)\n",
    "        tmpb[n1] = b_mn(m,n1+1)\n",
    "    a_m = np.linalg.solve(tmpA,tmpb)\n",
    "    for i in range(siz): \n",
    "        ξ = i/(siz-1)\n",
    "    \n",
    "        for j in range(siz):\n",
    "            φ = j/(siz-1) * np.pi\n",
    "            for n in range(N):\n",
    "                grid[i,j] += ψ(m,n+1,ξ,φ) * a_m[n]\n"
   ]
  },
  {
   "cell_type": "code",
   "execution_count": 148,
   "metadata": {},
   "outputs": [
    {
     "name": "stderr",
     "output_type": "stream",
     "text": [
      "/tmp/ipykernel_994/3997702249.py:2: MatplotlibDeprecationWarning: The get_cmap function was deprecated in Matplotlib 3.7 and will be removed two minor releases later. Use ``matplotlib.colormaps[name]`` or ``matplotlib.colormaps.get_cmap(obj)`` instead.\n",
      "  cmap = cm.get_cmap(\"YlGnBu_r\", 10)\n"
     ]
    },
    {
     "data": {
      "image/png": "[encoded data removed]",
      "text/plain": [
       "<Figure size 432x288 with 2 Axes>"
      ]
     },
     "metadata": {
      "needs_background": "light"
     },
     "output_type": "display_data"
    }
   ],
   "source": [
    "# grid[5,50] = 1000\n",
    "cmap = cm.get_cmap(\"YlGnBu_r\", 10)\n",
    "\n",
    "plt.imshow(grid[::-1],extent=[0,np.pi,0,1],cmap=cmap,aspect='auto')\n",
    "plt.xticks([0,np.pi/2,np.pi],[r\"$0$\",r\"$\\pi/2$\",r\"$\\pi$\"])\n",
    "plt.colorbar(label=\"Amplituda\")\n",
    "plt.xlabel(\"$\\phi$\")\n",
    "plt.ylabel(r\"$\\xi$\")\n",
    "plt.title(\"Profil cevi\")\n",
    "plt.savefig(PATH+\"cev.pdf\")"
   ]
  },
  {
   "cell_type": "code",
   "execution_count": 146,
   "metadata": {},
   "outputs": [
    {
     "data": {
      "image/png": "[encoded data removed]",
      "text/plain": [
       "<Figure size 432x288 with 2 Axes>"
      ]
     },
     "metadata": {
      "needs_background": "light"
     },
     "output_type": "display_data"
    }
   ],
   "source": [
    "# grid2 = np.zeros((siz,siz)) #[x,y]\n",
    "X,Y,Z=[],[],[]\n",
    "for i in range(siz):\n",
    "    ξ = i/(siz-1)\n",
    "    for j in range(siz):\n",
    "        φ = j/(siz-1) * np.pi\n",
    "        x = ξ * np.cos(φ)\n",
    "        y = ξ * np.sin(φ)\n",
    "        X.append(x)\n",
    "        Y.append(y)\n",
    "        Z.append(grid[i,j])\n",
    "\n",
    "X = np.array(X)\n",
    "Y = np.array(Y)\n",
    "Z = np.array(Z)\n",
    "\n",
    "\n",
    "plt.tripcolor(X,Y,Z,cmap=cmap)\n",
    "plt.colorbar(label=\"Amplituda\")\n",
    "plt.xlabel(\"$x$\")\n",
    "plt.ylabel(r\"$y$\")\n",
    "plt.title(\"Profil cevi\")\n",
    "plt.savefig(PATH+\"cev1.pdf\")\n"
   ]
  }
 ],
 "metadata": {
  "kernelspec": {
   "display_name": "Python 3",
   "language": "python",
   "name": "python3"
  },
  "language_info": {
   "codemirror_mode": {
    "name": "ipython",
    "version": 3
   },
   "file_extension": ".py",
   "mimetype": "text/x-python",
   "name": "python",
   "nbconvert_exporter": "python",
   "pygments_lexer": "ipython3",
   "version": "3.8.10"
  }
 },
 "nbformat": 4,
 "nbformat_minor": 2
}
