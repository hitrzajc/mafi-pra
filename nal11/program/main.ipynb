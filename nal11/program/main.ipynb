{
 "cells": [
  {
   "cell_type": "code",
   "execution_count": 51,
   "metadata": {},
   "outputs": [],
   "source": [
    "import numpy as np\n",
    "import matplotlib.pyplot as plt\n",
    "import scipy.special as sc\n",
    "from tqdm import tqdm\n",
    "from matplotlib.colors import LogNorm\n",
    "\n",
    "PATH = \"../latex/pdf/\"\n",
    "# print(plt.rcParams.keys())\n",
    "plt.rcParams['savefig.bbox'] = 'tight'\n",
    "plt.rcParams['savefig.dpi'] = 200\n",
    "plt.rcParams['savefig.pad_inches'] = 0\n",
    "\n"
   ]
  },
  {
   "cell_type": "code",
   "execution_count": 12,
   "metadata": {},
   "outputs": [],
   "source": [
    "def ψ_mn(m, n1, n2): #skalarni produkt\n",
    "    return np.pi/2 *sc.beta(4+4*m,1+n1+n2)\n",
    "\n",
    "def A_mn(m, n1, n2):\n",
    "    return -np.pi/2 * (n1*n2)*(3+4*m)/(2+4*m+n1+n2) * sc.beta(n1+n2-1,3+4*m)\n",
    "\n",
    "def b_mn(m, n):\n",
    "    return -2/(2*m+1)*sc.beta(2*m+3,n+1)\n",
    "        "
   ]
  },
  {
   "cell_type": "markdown",
   "metadata": {},
   "source": [
    "generating matrix $A^m_{ij}$ inside array $\\mathcal{A}  = \\left[A^1\\;\\ldots\\; A^m\\right]$"
   ]
  },
  {
   "cell_type": "code",
   "execution_count": 108,
   "metadata": {},
   "outputs": [
    {
     "name": "stderr",
     "output_type": "stream",
     "text": [
      "100%|██████████| 20/20 [00:02<00:00,  8.65it/s]\n"
     ]
    }
   ],
   "source": [
    "NN = 20\n",
    "MM = 20\n",
    "Cs = np.zeros((NN,MM))\n",
    "for N in tqdm(range(NN)):\n",
    "    for M in range(MM):\n",
    "        \n",
    "        # N = 10\n",
    "        # M = 10\n",
    "        As = []\n",
    "        bs = []\n",
    "        C = 0\n",
    "        for m in range(M):\n",
    "            tmpA = np.zeros((N,N))\n",
    "            tmpb = np.zeros(N)\n",
    "            for n1 in range(N):\n",
    "                for n2 in range(N):\n",
    "                    tmpA[n1,n2] = A_mn(m,n1+1,n2+1)\n",
    "                tmpb[n1] = b_mn(m,n1+1)\n",
    "            As.append(tmpA)\n",
    "            bs.append(tmpb)\n",
    "            # print(tmpA[:3,:3])\n",
    "            a = np.linalg.solve(tmpA,tmpb)\n",
    "            C += np.dot(a,tmpb)\n",
    "            # print(-32*C/np.pi)\n",
    "        Cs[N,M] = -32*C/np.pi\n",
    "\n"
   ]
  },
  {
   "cell_type": "markdown",
   "metadata": {},
   "source": [
    "GRAPHING $C(N,M)$"
   ]
  },
  {
   "cell_type": "code",
   "execution_count": 69,
   "metadata": {},
   "outputs": [
    {
     "data": {
      "text/plain": [
       "<Figure size 432x288 with 0 Axes>"
      ]
     },
     "metadata": {},
     "output_type": "display_data"
    }
   ],
   "source": [
    "Grph = Cs[1:,1:] - Cs[:-1,:-1]\n",
    "plt.imshow(Grph, cmap='hot', interpolation='nearest', extent=[1,MM,1,NN],norm=LogNorm())\n",
    "plt.colorbar(label = '$\\Delta C$')\n",
    "plt.title(\"C v odvisnosti od velikosti N bločnih matrik\\nin veliksoti M glavne matrike\")\n",
    "plt.xlabel('M')\n",
    "plt.ylabel('N')\n",
    "plt.yticks(range(5,NN+1,5))\n",
    "plt.savefig(PATH + \"C(N,M).pdf\")\n",
    "plt.clf()\n",
    "\n"
   ]
  },
  {
   "cell_type": "markdown",
   "metadata": {},
   "source": [
    "Mesasuring time"
   ]
  },
  {
   "cell_type": "code",
   "execution_count": 62,
   "metadata": {},
   "outputs": [
    {
     "name": "stderr",
     "output_type": "stream",
     "text": [
      " 15%|█▌        | 3/20 [00:00<00:00, 28.65it/s]"
     ]
    },
    {
     "name": "stderr",
     "output_type": "stream",
     "text": [
      "100%|██████████| 20/20 [00:02<00:00,  7.27it/s]\n"
     ]
    }
   ],
   "source": [
    "from time import time\n",
    "NN = 20\n",
    "MM = 20\n",
    "times = np.zeros((NN,MM))\n",
    "# Cs = np.zeros((NN,MM))\n",
    "for N in tqdm(range(NN)):\n",
    "    for M in range(MM):\n",
    "        time_s = time()\n",
    "        # N = 10\n",
    "        # M = 10\n",
    "        As = []\n",
    "        bs = []\n",
    "        C = 0\n",
    "        for m in range(M):\n",
    "            tmpA = np.zeros((N,N))\n",
    "            tmpb = np.zeros(N)\n",
    "            for n1 in range(N):\n",
    "                for n2 in range(N):\n",
    "                    tmpA[n1,n2] = A_mn(m,n1+1,n2+1)\n",
    "                tmpb[n1] = b_mn(m,n1+1)\n",
    "            As.append(tmpA)\n",
    "            bs.append(tmpb)\n",
    "            # print(tmpA[:3,:3])\n",
    "            a = np.linalg.solve(tmpA,tmpb)\n",
    "            C += np.dot(a,tmpb)\n",
    "        time_e = time()\n",
    "        times[N,M] = time_e - time_s\n",
    "            # print(-32*C/np.pi)\n",
    "        # Cs[N,M] = -32*C/np.pi"
   ]
  },
  {
   "cell_type": "code",
   "execution_count": 64,
   "metadata": {},
   "outputs": [
    {
     "data": {
      "image/png": "[encoded data removed]",
      "text/plain": [
       "<Figure size 432x288 with 2 Axes>"
      ]
     },
     "metadata": {
      "needs_background": "light"
     },
     "output_type": "display_data"
    }
   ],
   "source": [
    "plt.imshow(times, cmap='hot', interpolation='nearest', extent=[1,MM,1,NN],norm=LogNorm())\n",
    "plt.xlabel('M')\n",
    "plt.ylabel('N')\n",
    "plt.colorbar(label = 'Čas [s]')\n",
    "plt.title(\"Časovna zahtevnost za izračun $C(N,M)$\")\n",
    "plt.savefig(PATH + \"time(N,M).pdf\")"
   ]
  },
  {
   "cell_type": "markdown",
   "metadata": {},
   "source": [
    "Narišemo še primer $\\mathcal{A}$"
   ]
  },
  {
   "cell_type": "code",
   "execution_count": 79,
   "metadata": {},
   "outputs": [],
   "source": [
    "N = 5\n",
    "M = 20\n",
    "\n",
    "As = []\n",
    "bs = []\n",
    "C = 0\n",
    "for m in range(M):\n",
    "    tmpA = np.zeros((N,N))\n",
    "    tmpb = np.zeros(N)\n",
    "    for n1 in range(N):\n",
    "        for n2 in range(N):\n",
    "            tmpA[n1,n2] = A_mn(m,n1+1,n2+1)\n",
    "        tmpb[n1] = b_mn(m,n1+1)\n",
    "    As.append(tmpA)\n",
    "    bs.append(tmpb)\n",
    "    # print(tmpA[:3,:3])\n",
    "    a = np.linalg.solve(tmpA,tmpb)\n",
    "    C += np.dot(a,tmpb)\n",
    "    # print(-32*C/np.pi)\n",
    "# Cs[N,M] = -32*C/np.pi\n"
   ]
  },
  {
   "cell_type": "code",
   "execution_count": 106,
   "metadata": {},
   "outputs": [
    {
     "data": {
      "image/png": "[encoded data removed]",
      "text/plain": [
       "<Figure size 432x288 with 2 Axes>"
      ]
     },
     "metadata": {
      "needs_background": "light"
     },
     "output_type": "display_data"
    }
   ],
   "source": [
    "Grph = np.zeros((N*3,N*3))\n",
    "for m in range(3):\n",
    "    for i in range(N):\n",
    "        for j in range(N):\n",
    "            Grph[i+m*N,j+m*N] = -As[m][i,j]\n",
    "# print(Grph[:10,:10])\n",
    "plt.imshow(Grph, cmap='Blues', interpolation='nearest', extent=[1,N*3,N*3,1],norm=LogNorm())\n",
    "plt.colorbar(label = '$|A_{ij}|$')\n",
    "ticks = np.array([1]+list(range(5,N*3+1,5)))\n",
    "plt.xticks(ticks, labels=ticks)\n",
    "plt.yticks(ticks, labels=ticks)\n",
    "plt.title(\"Absolutna vrednost bločne matrike $A$\")\n",
    "plt.xlabel('$i$')\n",
    "plt.ylabel('$j$')\n",
    "# plt.rcParams['savefig.bbox'] = 'standard'\n",
    "\n",
    "plt.savefig(PATH + \"A.pdf\")\n",
    "# plt.rcParams['savefig.bbox'] = 'tight'\n",
    "\n"
   ]
  },
  {
   "cell_type": "markdown",
   "metadata": {},
   "source": [
    "Natančnost $C(M)$ in $C(N)$ za nek fiksen m,n"
   ]
  },
  {
   "cell_type": "code",
   "execution_count": 140,
   "metadata": {},
   "outputs": [
    {
     "name": "stderr",
     "output_type": "stream",
     "text": [
      "100%|██████████| 120/120 [00:10<00:00, 11.48it/s]"
     ]
    },
    {
     "name": "stdout",
     "output_type": "stream",
     "text": [
      "0.7577219624538012\n"
     ]
    },
    {
     "name": "stderr",
     "output_type": "stream",
     "text": [
      "\n"
     ]
    }
   ],
   "source": [
    "#get exaxt C\n",
    "As = []\n",
    "bs = []\n",
    "C = 0\n",
    "M = 120\n",
    "N = 120\n",
    "for m in tqdm(range(M)):\n",
    "    tmpA = np.zeros((N,N))\n",
    "    tmpb = np.zeros(N)\n",
    "    for n1 in range(N):\n",
    "        for n2 in range(N):\n",
    "            tmpA[n1,n2] = A_mn(m,n1+1,n2+1)\n",
    "        tmpb[n1] = b_mn(m,n1+1)\n",
    "    As.append(tmpA)\n",
    "    bs.append(tmpb)\n",
    "    # print(tmpA[:3,:3])\n",
    "    a = np.linalg.solve(tmpA,tmpb)\n",
    "    C += np.dot(a,tmpb) * (-32/np.pi)\n",
    "print(C)"
   ]
  },
  {
   "cell_type": "code",
   "execution_count": 136,
   "metadata": {},
   "outputs": [
    {
     "name": "stderr",
     "output_type": "stream",
     "text": [
      "100%|██████████| 4/4 [00:11<00:00,  2.82s/it]\n"
     ]
    },
    {
     "data": {
      "text/plain": [
       "<Figure size 432x288 with 0 Axes>"
      ]
     },
     "metadata": {},
     "output_type": "display_data"
    }
   ],
   "source": [
    "N = 5\n",
    "MM = 50\n",
    "\n",
    "As = []\n",
    "bs = []\n",
    "plt.grid()\n",
    "for N in tqdm([5, 10, 15, 30]):\n",
    "    y = []\n",
    "    for M in range(MM):\n",
    "        tmpC = 0\n",
    "        for m in range(M):\n",
    "            tmpA = np.zeros((N,N))\n",
    "            tmpb = np.zeros(N)\n",
    "            for n1 in range(N):\n",
    "                for n2 in range(N):\n",
    "                    tmpA[n1,n2] = A_mn(m,n1+1,n2+1)\n",
    "                tmpb[n1] = b_mn(m,n1+1)\n",
    "            As.append(tmpA)\n",
    "            bs.append(tmpb)\n",
    "            # print(tmpA[:3,:3])\n",
    "            a = np.linalg.solve(tmpA,tmpb)\n",
    "            tmpC += np.dot(a,tmpb)\n",
    "            # print(-32*C/np.pi)\n",
    "        y.append( -32*tmpC/np.pi)\n",
    "    plt.plot(range(1,MM+1),np.abs(np.array(y)-C),label=f\"N={N}\")\n",
    "plt.yscale('log')\n",
    "plt.xlabel('M')\n",
    "plt.ylabel('$\\Delta C$')\n",
    "plt.legend()\n",
    "plt.title(\"Napaka izračuna $C$ v odvisnosti od velikosti M\")\n",
    "plt.savefig(PATH + \"C(M).pdf\")\n",
    "plt.clf()"
   ]
  },
  {
   "cell_type": "code",
   "execution_count": 138,
   "metadata": {},
   "outputs": [
    {
     "name": "stderr",
     "output_type": "stream",
     "text": [
      "100%|██████████| 4/4 [00:29<00:00,  7.49s/it]\n"
     ]
    },
    {
     "data": {
      "text/plain": [
       "<Figure size 432x288 with 0 Axes>"
      ]
     },
     "metadata": {},
     "output_type": "display_data"
    }
   ],
   "source": [
    "M = 5\n",
    "NN = 50\n",
    "\n",
    "As = []\n",
    "bs = []\n",
    "plt.grid()\n",
    "for M in tqdm([5, 10, 15, 30]):\n",
    "    y = []\n",
    "    for N in range(NN):\n",
    "        tmpC = 0\n",
    "        for m in range(M):\n",
    "            tmpA = np.zeros((N,N))\n",
    "            tmpb = np.zeros(N)\n",
    "            for n1 in range(N):\n",
    "                for n2 in range(N):\n",
    "                    tmpA[n1,n2] = A_mn(m,n1+1,n2+1)\n",
    "                tmpb[n1] = b_mn(m,n1+1)\n",
    "            As.append(tmpA)\n",
    "            bs.append(tmpb)\n",
    "            # print(tmpA[:3,:3])\n",
    "            a = np.linalg.solve(tmpA,tmpb)\n",
    "            tmpC += np.dot(a,tmpb)\n",
    "            # print(-32*C/np.pi)\n",
    "        y.append( -32*tmpC/np.pi)\n",
    "    plt.plot(range(1,MM+1),np.abs(np.array(y)-C),label=f\"M={M}\")\n",
    "plt.yscale('log')\n",
    "plt.xlabel('N')\n",
    "plt.ylabel('$\\Delta C$')\n",
    "plt.legend()\n",
    "plt.title(\"Napaka izračuna $C$ v odvisnosti od velikosti N\")\n",
    "plt.savefig(PATH + \"C(N).pdf\")\n",
    "plt.clf()"
   ]
  },
  {
   "cell_type": "markdown",
   "metadata": {},
   "source": [
    "kk se asimpotota error-ja spreminja"
   ]
  },
  {
   "cell_type": "code",
   "execution_count": 143,
   "metadata": {},
   "outputs": [
    {
     "name": "stderr",
     "output_type": "stream",
     "text": [
      "100%|██████████| 9/9 [00:01<00:00,  6.45it/s]\n"
     ]
    }
   ],
   "source": [
    "M = 5\n",
    "NN = 100\n",
    "\n",
    "X, Y = [],[]\n",
    "for M in tqdm(np.arange(5,50,5)):\n",
    "    y = []\n",
    "    for N in range(NN):\n",
    "        tmpC = 0\n",
    "        for m in range(M):\n",
    "            tmpA = np.zeros((N,N))\n",
    "            tmpb = np.zeros(N)\n",
    "            for n1 in range(N):\n",
    "                for n2 in range(N):\n",
    "                    tmpA[n1,n2] = A_mn(m,n1+1,n2+1)\n",
    "                tmpb[n1] = b_mn(m,n1+1)\n",
    "            # print(tmpA[:3,:3])\n",
    "            a = np.linalg.solve(tmpA,tmpb)\n",
    "            tmpC += np.dot(a,tmpb)\n",
    "            # print(-32*C/np.pi)\n",
    "        y.append( -32*tmpC/np.pi)\n",
    "        if(N>5) and abs(y[-1]-y[-2])<1e-6:\n",
    "            break\n",
    "    Y.append(abs(y[-1]-C))\n",
    "    X.append(M)\n"
   ]
  },
  {
   "cell_type": "code",
   "execution_count": 160,
   "metadata": {},
   "outputs": [
    {
     "name": "stderr",
     "output_type": "stream",
     "text": [
      "  0%|          | 0/9 [00:00<?, ?it/s]"
     ]
    },
    {
     "name": "stderr",
     "output_type": "stream",
     "text": [
      "100%|██████████| 9/9 [00:41<00:00,  4.61s/it]\n"
     ]
    }
   ],
   "source": [
    "MM = 150\n",
    "\n",
    "XX, YY = [],[]\n",
    "for N in tqdm(np.arange(5,50,5)):\n",
    "    prev = now = 0\n",
    "    for M in range(MM):\n",
    "        tmpC = 0\n",
    "        for m in range(M):\n",
    "            tmpA = np.zeros((N,N))\n",
    "            tmpb = np.zeros(N)\n",
    "            for n1 in range(N):\n",
    "                for n2 in range(N):\n",
    "                    tmpA[n1,n2] = A_mn(m,n1+1,n2+1)\n",
    "                tmpb[n1] = b_mn(m,n1+1)\n",
    "            # print(tmpA[:3,:3])\n",
    "            a = np.linalg.solve(tmpA,tmpb)\n",
    "            tmpC += np.dot(a,tmpb)\n",
    "            # print(-32*C/np.pi)\n",
    "\n",
    "        if(M>5) and abs(now-prev)<1e-6:\n",
    "            break\n",
    "        tmp = now\n",
    "        now = -32*tmpC/np.pi\n",
    "        prev = tmp\n",
    "    YY.append(abs(now-C))\n",
    "    XX.append(N)"
   ]
  },
  {
   "cell_type": "code",
   "execution_count": 171,
   "metadata": {},
   "outputs": [
    {
     "data": {
      "image/png": "[encoded data removed]",
      "text/plain": [
       "<Figure size 432x288 with 1 Axes>"
      ]
     },
     "metadata": {
      "needs_background": "light"
     },
     "output_type": "display_data"
    }
   ],
   "source": [
    "plt.grid()\n",
    "plt.scatter(X,Y,label=\"Asimpotota napake za fiksne $M$\",color=\"blue\")\n",
    "plt.scatter(XX,YY,label=\"Asimpotota napake za fiksne $N$\",color=\"red\")\n",
    "plt.yscale('log')\n",
    "plt.xlabel(r\"$M$ (rdeča), $N$ (modra)\")\n",
    "plt.ylabel('$\\Delta C$')\n",
    "plt.legend()\n",
    "plt.title(\"Asimptote napak za fiskne $M$ in fiksne $N$\")\n",
    "# plt.savefig(PATH + \"C(N).pdf\")\n",
    "plt.savefig(PATH + \"Asimpotote_napak.pdf\")"
   ]
  }
 ],
 "metadata": {
  "kernelspec": {
   "display_name": "Python 3",
   "language": "python",
   "name": "python3"
  },
  "language_info": {
   "codemirror_mode": {
    "name": "ipython",
    "version": 3
   },
   "file_extension": ".py",
   "mimetype": "text/x-python",
   "name": "python",
   "nbconvert_exporter": "python",
   "pygments_lexer": "ipython3",
   "version": "3.8.10"
  }
 },
 "nbformat": 4,
 "nbformat_minor": 2
}
