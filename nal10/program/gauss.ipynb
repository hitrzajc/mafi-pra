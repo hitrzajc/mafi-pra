{
 "cells": [
  {
   "cell_type": "code",
   "execution_count": 1,
   "metadata": {},
   "outputs": [],
   "source": [
    "import numpy as np\n",
    "import scipy.linalg\n",
    "\n",
    "import numpy as np\n",
    "from matplotlib import pyplot as plt\n",
    "from numpy import linalg as LA\n",
    "from matplotlib.animation import FuncAnimation, FFMpegWriter\n",
    "from matplotlib.colors import LogNorm\n",
    "from tqdm import tqdm\n",
    "import sympy as sp\n",
    "from scipy.interpolate import pade"
   ]
  },
  {
   "cell_type": "code",
   "execution_count": 17,
   "metadata": {},
   "outputs": [],
   "source": [
    "PATH = \"../latex/pdf/\"\n",
    "# print(plt.rcParams.keys())\n",
    "plt.rcParams['savefig.bbox'] = 'tight'\n",
    "plt.rcParams['savefig.dpi'] = 200\n",
    "plt.rcParams['savefig.pad_inches'] = 0\n",
    "ω = 0.2\n",
    "λ = 10\n",
    "\n",
    "def ψ(x, t, k=50*np.pi, λ=0.25,σ=1/20): #analiticna resitu\n",
    "    coef = (2*np.pi*σ**2)**(-0.25)/np.sqrt(1+1j*t/2*σ**2)\n",
    "    exp = (-(x-λ)**2/(4*σ**2) + 1j*k*(x-λ) - 1j*t*k**2/2)/(1+1j*t/2*σ**2)\n",
    "    return coef * np.exp(exp)\n",
    "\n",
    "def V(x, k = np.sqrt(ω)):\n",
    "    return x*0\n",
    "    return 0.5*x**2*k\n",
    "\n",
    "def FD(m, n, s):\n",
    "    x = sp.Symbol('x')\n",
    "    expr = (x**s * sp.log(x)**m)\n",
    "    series_exp = sp.series(expr, x, x0=1, n=n+1).removeO()\n",
    "\n",
    "    dic = sp.collect(sp.expand(series_exp), x).as_coefficients_dict()\n",
    "    arr = []\n",
    "    for key in dic:\n",
    "        base,exp = key.as_base_exp()\n",
    "        arr.append((exp,dic[key]))\n",
    "    arr.sort()\n",
    "    out = []\n",
    "    for i in arr:\n",
    "        out.append(float(i[1]))\n",
    "    return out\n",
    "\n",
    "\n",
    "def pade_exp(M):\n",
    "    e_exp = []\n",
    "    acc = 1\n",
    "    for i in range(1,2*M+2):\n",
    "        e_exp.append(1/acc)\n",
    "        acc *= i\n",
    "    p, q = pade(e_exp,M)\n",
    "    return np.roots(p)\n",
    "\n",
    "\n",
    "x = np.linspace(-0.5,1.5,300)\n",
    "dx = x[1] - x[0]\n",
    "dt = 2*dx**2\n",
    "\n",
    "t = [dt * i for i in range(300)]\n",
    "t = np.array(t)\n",
    "dt = t[1] - t[0]\n",
    "ψ_0 = ψ(x,0) #initial state\n"
   ]
  },
  {
   "cell_type": "code",
   "execution_count": 31,
   "metadata": {},
   "outputs": [
    {
     "name": "stderr",
     "output_type": "stream",
     "text": [
      "/home/arch/faks/mafi-pra/venv/lib/python3.8/site-packages/scipy/interpolate/_pade.py:63: LinAlgWarning: Ill-conditioned matrix (rcond=1.90025e-23): result may not be accurate.\n",
      "  pq = linalg.solve(C, an)\n"
     ]
    }
   ],
   "source": [
    "N = 10\n",
    "M = 10\n",
    "mx=0\n",
    "coef = pade_exp(M)\n",
    "sol = np.zeros((len(t), len(x)), dtype=complex)\n",
    "sol[0] = ψ_0\n",
    "Matrices = []\n",
    "MatricesC = []\n",
    "c = FD(2,N,N//2)\n",
    "# print(c)\n",
    "for i in range(len(coef)):\n",
    "    d = (1+1j*dt/coef[i]*V(x))\n",
    "    A = np.diag(d)\n",
    "    cof = -1j*dt/2/(dx**2)/coef[i]\n",
    "    for r in range(len(c)):\n",
    "        pos = r-N//2\n",
    "        # print(type(c[r]))\n",
    "        A += cof*np.diag(c[r]*np.ones(len(x)-abs(pos)),pos)\n",
    "    Matrices.append(A)\n",
    "    MatricesC.append(np.conjugate(A))\n",
    "A = Matrices[0]\n",
    "B = MatricesC[-1]\n",
    "for i in range(1,len(Matrices)):\n",
    "    A = (Matrices[i] @ A)\n",
    "    B = MatricesC[-i-1] @ B\n",
    "for i in range(1,len(sol)):\n",
    "    sol[i] = np.dot(A, sol[i-1])\n",
    "    sol[i] = LA.solve(B, sol[i])"
   ]
  },
  {
   "cell_type": "code",
   "execution_count": 32,
   "metadata": {},
   "outputs": [],
   "source": [
    "analytic = np.zeros((len(t), len(x)), dtype=complex)\n",
    "for i in range(0,len(t)):\n",
    "    t1 = t[i]\n",
    "    analytic[i] = ψ(x,t1)\n",
    "    \n",
    "mx = 0\n",
    "for i in range(len(sol)):\n",
    "    mx = max(mx, np.max(np.abs(sol[i])))\n",
    "# sol = sol / mx"
   ]
  },
  {
   "cell_type": "code",
   "execution_count": null,
   "metadata": {},
   "outputs": [],
   "source": []
  },
  {
   "cell_type": "code",
   "execution_count": 34,
   "metadata": {},
   "outputs": [
    {
     "data": {
      "image/png": "[encoded data removed]",
      "text/plain": [
       "<Figure size 640x480 with 1 Axes>"
      ]
     },
     "metadata": {},
     "output_type": "display_data"
    }
   ],
   "source": [
    "#animate\n",
    "fig, ax = plt.subplots()\n",
    "\n",
    "line, = ax.plot(x, np.abs(sol[0])**2, color=\"red\", label=\"Numerical\")\n",
    "# line1, = ax.plot(x, np.abs(analytic[0])**2, color=\"black\", label=\"Analytic\")\n",
    "\n",
    "ax.set_ylim(0, mx**2)\n",
    "ax.legend()\n",
    "\n",
    "def animate(i):\n",
    "    line.set_ydata(np.abs(sol[i])**2)\n",
    "    # line1.set_ydata(np.abs(analytic[i])**2)\n",
    "    return line\n",
    "\n",
    "ani = FuncAnimation(fig, animate, frames=len(t), interval=50)\n",
    "writer = FFMpegWriter(fps=20, bitrate=1800)\n",
    "ani.save(PATH + \"gauss.mp4\", writer=writer, dpi=150)\n"
   ]
  },
  {
   "cell_type": "code",
   "execution_count": null,
   "metadata": {},
   "outputs": [],
   "source": []
  }
 ],
 "metadata": {
  "kernelspec": {
   "display_name": "venv",
   "language": "python",
   "name": "python3"
  },
  "language_info": {
   "codemirror_mode": {
    "name": "ipython",
    "version": 3
   },
   "file_extension": ".py",
   "mimetype": "text/x-python",
   "name": "python",
   "nbconvert_exporter": "python",
   "pygments_lexer": "ipython3",
   "version": "3.8.10"
  }
 },
 "nbformat": 4,
 "nbformat_minor": 2
}
